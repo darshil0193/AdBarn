{
 "cells": [
  {
   "cell_type": "code",
   "execution_count": 1,
   "metadata": {},
   "outputs": [
    {
     "name": "stdout",
     "output_type": "stream",
     "text": [
      "[(1, 1, 5), (3, 2, 1), (3, 1, 1), (1, 2, 10), (2, 4, 1), (2, 1, 6), (2, 2, 2), (3, 3, 1)]\n"
     ]
    }
   ],
   "source": [
    "# DATA format\n",
    "'''\n",
    "\n",
    "# Retrieve Data\n",
    "# Data format. Each item in the list represents userid, video_id, num of times viewed / rating\n",
    "user_ad_views = [[1,1,5],\n",
    "    [3,2,1],\n",
    "                 [3,1,1],\n",
    "                 [1,2,10],\n",
    "                 [2,4,1],\n",
    "       [2,1,6],\n",
    "       [2,2,2],\n",
    "       [3,3,1]]\n",
    "user_ad_views = sc.parallelize(user_ad_views)\n",
    "user_ad_views = user_ad_views.map(lambda x:(x[0], x[1], x[2]))\n",
    "\n",
    "ad_names = [(1,\"one\"),(2,\"two\"),(3,\"three\"),(4,\"four\")]\n",
    "ad_names = sc.parallelize(ad_names)\n",
    "# print (user_ad_views.collect())\n",
    "\n",
    "'''"
   ]
  },
  {
   "cell_type": "code",
   "execution_count": 30,
   "metadata": {},
   "outputs": [
    {
     "name": "stdout",
     "output_type": "stream",
     "text": [
      "[(2, 1, 1), (2, 6, 1), (2, 7, 1), (2, 2, 1), (2, 3, 1), (2, 4, 1), (2, 5, 1), (2, 6, 1), (2, 7, 1), (2, 8, 1), (2, 9, 1), (2, 10, 1), (3, 1, 1), (3, 7, 1), (4, 1, 1), (4, 7, 1), (4, 4, 1), (4, 5, 1), (4, 10, 1), (5, 6, 1), (5, 7, 1), (5, 10, 1), (6, 1, 1), (6, 7, 1), (6, 2, 1), (6, 4, 1), (6, 8, 1), (7, 1, 1), (7, 6, 1), (7, 5, 1), (7, 6, 1), (7, 7, 1), (7, 8, 1), (7, 10, 1), (8, 1, 1), (8, 10, 1), (9, 5, 1), (9, 6, 1), (9, 7, 1), (9, 8, 1), (10, 1, 1), (10, 6, 1), (10, 7, 1), (10, 9, 1)]\n",
      "[(1, u'laptop1'), (2, u'laptop2'), (3, u'clothing1'), (4, u'clothing2'), (5, u'med1'), (6, u'grocery1'), (7, u'sport1'), (8, u'sport2'), (9, u'footwear1'), (10, u'footwear2'), (11, u'laptop4'), (12, u'laptop3'), (13, u'cothing3'), (14, u'clothing4'), (15, u'cos1'), (16, u'cos3'), (17, u'movie1'), (18, u'movie2'), (19, u'rest1'), (20, u'rest2'), (21, u'groc1'), (22, u'groc2'), (23, u'sport3'), (24, u'mobile5')]\n"
     ]
    }
   ],
   "source": [
    "# MongoDB connection\n",
    "import pymongo\n",
    "\n",
    "client = pymongo.MongoClient('mongodb://152.46.20.123:27017')\n",
    "db = client.testgridfs\n",
    "\n",
    "# USERS data\n",
    "users = db.users\n",
    "data = []\n",
    "for obj in users.find():\n",
    "    if(len(obj['videosViewed']) >= 1):\n",
    "        for viewed in obj['videosViewed']:\n",
    "            data.append((obj['userId'], viewed['videoId'], 1))\n",
    "print (data)\n",
    "\n",
    "# VIDEOS information\n",
    "videos = db.videos\n",
    "ad_names = []\n",
    "for obj in videos.find():\n",
    "    ad_names.append((obj['videoId'], obj['title']))\n",
    "print (ad_names)\n"
   ]
  },
  {
   "cell_type": "code",
   "execution_count": 31,
   "metadata": {},
   "outputs": [
    {
     "name": "stdout",
     "output_type": "stream",
     "text": [
      "[(6, 4, 1), (6, 8, 1), (4, 10, 1), (2, 8, 1), (7, 7, 1)]\n",
      "[(1, u'laptop1'), (2, u'laptop2')]\n"
     ]
    }
   ],
   "source": [
    "# Forming user-ads-views RDDs\n",
    "user_ad_views = sc.parallelize(data)\n",
    "user_ad_views = user_ad_views.map(lambda x:((x[0], x[1]), x[2]))\n",
    "user_ad_views = user_ad_views.reduceByKey(lambda x, y: x+y)\n",
    "user_ad_views = user_ad_views.map(lambda x:(x[0][0], x[0][1], x[1]))\n",
    "print (user_ad_views.take(5))\n",
    "\n",
    "# Forming ad-names RDDS\n",
    "ad_names = sc.parallelize(ad_names)\n",
    "print (ad_names.take(2))"
   ]
  },
  {
   "cell_type": "code",
   "execution_count": 32,
   "metadata": {},
   "outputs": [
    {
     "name": "stdout",
     "output_type": "stream",
     "text": [
      "[(6, 8, 1), (4, 10, 1), (9, 5, 1), (3, 7, 1), (2, 4, 1), (5, 10, 1), (7, 8, 1), (2, 3, 1), (9, 6, 1), (4, 1, 1), (2, 6, 2), (3, 1, 1), (5, 7, 1), (10, 6, 1), (4, 4, 1), (6, 2, 1), (4, 7, 1), (2, 9, 1), (6, 1, 1), (2, 1, 1), (10, 1, 1), (10, 9, 1)]\n"
     ]
    }
   ],
   "source": [
    "# Data split for cross validation\n",
    "trainData, validationData, testData = user_ad_views.randomSplit([40, 40, 20], 13)\n",
    "print (trainData.collect())"
   ]
  },
  {
   "cell_type": "code",
   "execution_count": 33,
   "metadata": {},
   "outputs": [
    {
     "name": "stdout",
     "output_type": "stream",
     "text": [
      "[8, 4, 9, 5, 2]\n",
      "[1, 2, 3, 4, 5]\n",
      "[(8, 1), (8, 2), (8, 3), (8, 4), (8, 5)]\n",
      "[(6, 8), (4, 10), (9, 5), (3, 7), (2, 4)]\n"
     ]
    }
   ],
   "source": [
    "unique_user = user_ad_views.map(lambda x:(x[0],(x[1], x[2]))).groupByKey().map(lambda x:x[0])\n",
    "unique_ad = ad_names.map(lambda x:x[0])\n",
    "all_pairs = unique_user.cartesian(unique_ad)\n",
    "trainData_m = trainData.map(lambda x:(x[0], x[1]))\n",
    "print (unique_user.take(5))\n",
    "print (unique_ad.take(5))\n",
    "print (all_pairs.take(5))\n",
    "print (trainData_m.take(5))"
   ]
  },
  {
   "cell_type": "code",
   "execution_count": 34,
   "metadata": {
    "collapsed": true
   },
   "outputs": [],
   "source": [
    "# Evaluating a model\n",
    "\n",
    "def computeAvg(rdd):\n",
    "    userid, pre, to_c = rdd[0], list(rdd[1][0]), list(rdd[1][1])\n",
    "    to_c = sc.parallelize(to_c).map(lambda x:x[0]).collect()\n",
    "    X = len(to_c)\n",
    "    pre = sc.parallelize(pre).sortBy(lambda x:-x[1]).map(lambda x:x[0]).collect()[:X]\n",
    "    same = 0\n",
    "    for i in pre:\n",
    "        if i in to_c: same+=1\n",
    "    return same*1.0/X\n",
    "        \n",
    "    \n",
    "def modelEval(model, validationData):\n",
    "    to_be_predicted = all_pairs.subtract(trainData_m)\n",
    "    predicted_data = model.predictAll(to_be_predicted).map(lambda x:(x[0], (x[1], x[2]))).groupByKey()\n",
    "    to_compare = validationData.subtract(trainData).map(lambda x:(x[0], (x[1], x[2]))).groupByKey()\n",
    "    merge = predicted_data.join(to_compare)\n",
    "    total = 0\n",
    "    for each in merge.collect():\n",
    "        total+=computeAvg(each)\n",
    "    return (total*1.0/50)"
   ]
  },
  {
   "cell_type": "code",
   "execution_count": 35,
   "metadata": {},
   "outputs": [
    {
     "name": "stdout",
     "output_type": "stream",
     "text": [
      "The model score for rank 1 is 0.036667\n",
      "The model score for rank 2 is 0.026667\n",
      "The model score for rank 3 is 0.030000\n"
     ]
    }
   ],
   "source": [
    "# Building the model\n",
    "from pyspark.mllib.recommendation import *\n",
    "import random\n",
    "from operator import *\n",
    "\n",
    "for rank in [1, 2, 3]:\n",
    "    model = ALS.trainImplicit(trainData, rank = rank, seed = 345)\n",
    "    modelScore = modelEval(model, validationData)\n",
    "    print \"The model score for rank %d is %f\"%(rank, modelScore)"
   ]
  },
  {
   "cell_type": "code",
   "execution_count": 36,
   "metadata": {},
   "outputs": [
    {
     "name": "stdout",
     "output_type": "stream",
     "text": [
      "Model Score for best model, rank = 10 is 0.010000\n"
     ]
    }
   ],
   "source": [
    "bestModel = ALS.trainImplicit(trainData, rank=1, seed=345)\n",
    "ans = modelEval(bestModel, testData)\n",
    "print \"Model Score for best model, rank = 10 is %f\"%(ans)\n"
   ]
  },
  {
   "cell_type": "code",
   "execution_count": 37,
   "metadata": {},
   "outputs": [
    {
     "name": "stdout",
     "output_type": "stream",
     "text": [
      "[Rating(user=2, product=1, rating=1.1812443516124844), Rating(user=2, product=6, rating=0.6369860890532593)]\n"
     ]
    }
   ],
   "source": [
    "# Recommend now\n",
    "top = bestModel.recommendProducts(2, 2)\n",
    "print (top)"
   ]
  },
  {
   "cell_type": "code",
   "execution_count": 43,
   "metadata": {},
   "outputs": [
    {
     "name": "stdout",
     "output_type": "stream",
     "text": [
      "[(2, (Rating(user=2, product=1, rating=1.1812443516124844), Rating(user=2, product=6, rating=0.6369860890532593), Rating(user=2, product=4, rating=0.6095432391537656), Rating(user=2, product=7, rating=0.575439891282695), Rating(user=2, product=9, rating=0.5656834342127723), Rating(user=2, product=10, rating=0.39090900155405706), Rating(user=2, product=3, rating=0.32696971434747546), Rating(user=2, product=8, rating=0.17352926853684636), Rating(user=2, product=2, rating=0.15536263477089474), Rating(user=2, product=5, rating=0.07122940141314693))), (3, (Rating(user=3, product=1, rating=0.6478738501945855), Rating(user=3, product=6, rating=0.34936601345181373), Rating(user=3, product=4, rating=0.3343145088241499), Rating(user=3, product=7, rating=0.3156099391391436), Rating(user=3, product=9, rating=0.3102588418852008), Rating(user=3, product=10, rating=0.21440078808997498), Rating(user=3, product=3, rating=0.17933218257691763), Rating(user=3, product=8, rating=0.09517512204392631), Rating(user=3, product=2, rating=0.08521131824079653), Rating(user=3, product=5, rating=0.03906699446020312))), (4, (Rating(user=4, product=1, rating=0.9922754498167023), Rating(user=4, product=6, rating=0.5350845971703393), Rating(user=4, product=4, rating=0.5120319017723887), Rating(user=4, product=7, rating=0.48338421782551677), Rating(user=4, product=9, rating=0.4751885444964046), Rating(user=4, product=10, rating=0.3283735535538881), Rating(user=4, product=3, rating=0.27466291791168373), Rating(user=4, product=8, rating=0.14576902125179458), Rating(user=4, product=2, rating=0.13050858452068326), Rating(user=4, product=5, rating=0.05983451792249639))), (5, (Rating(user=5, product=1, rating=0.3577684210665666), Rating(user=5, product=6, rating=0.19292664300223805), Rating(user=5, product=4, rating=0.1846149121865892), Rating(user=5, product=7, rating=0.17428588847167248), Rating(user=5, product=9, rating=0.17133090948163954), Rating(user=5, product=10, rating=0.11839624551498673), Rating(user=5, product=3, rating=0.09903068597026277), Rating(user=5, product=8, rating=0.052557535897221896), Rating(user=5, product=2, rating=0.04705533148907648), Rating(user=5, product=5, rating=0.02157354694844571))), (6, (Rating(user=6, product=1, rating=0.5510416932443398), Rating(user=6, product=6, rating=0.29714926687763565), Rating(user=6, product=4, rating=0.28434738176773067), Rating(user=6, product=7, rating=0.2684384239551303), Rating(user=6, product=9, rating=0.2638871093888113), Rating(user=6, product=10, rating=0.18235613810703555), Rating(user=6, product=3, rating=0.15252893678407897), Rating(user=6, product=8, rating=0.08095011149172038), Rating(user=6, product=2, rating=0.07247551212768988), Rating(user=6, product=5, rating=0.03322798531049198))), (7, (Rating(user=7, product=1, rating=0.06509292980935788), Rating(user=7, product=6, rating=0.03510136639187378), Rating(user=7, product=4, rating=0.03358911746569859), Rating(user=7, product=7, rating=0.031709839206119694), Rating(user=7, product=9, rating=0.031172205841461853), Rating(user=7, product=10, rating=0.021541192696726608), Rating(user=7, product=3, rating=0.018017793386061576), Rating(user=7, product=8, rating=0.009562397891104357), Rating(user=7, product=2, rating=0.008561318465848122), Rating(user=7, product=5, rating=0.003925123891783566))), (9, (Rating(user=9, product=1, rating=0.2622599831093808), Rating(user=9, product=6, rating=0.1414237119762518), Rating(user=9, product=4, rating=0.13533084783574623), Rating(user=9, product=7, rating=0.12775921930314738), Rating(user=9, product=9, rating=0.12559308977806438), Rating(user=9, product=10, rating=0.08678965364357083), Rating(user=9, product=3, rating=0.0725938470266474), Rating(user=9, product=8, rating=0.03852698467792237), Rating(user=9, product=2, rating=0.034493626924203546), Rating(user=9, product=5, rating=0.015814358465293665))), (10, (Rating(user=10, product=1, rating=0.8680961748430889), Rating(user=10, product=6, rating=0.4681209155248496), Rating(user=10, product=4, rating=0.4479531720837713), Rating(user=10, product=7, rating=0.4228906303701905), Rating(user=10, product=9, rating=0.41572061254038317), Rating(user=10, product=10, rating=0.2872789262421236), Rating(user=10, product=3, rating=0.240289960266999), Rating(user=10, product=8, rating=0.12752661550044309), Rating(user=10, product=2, rating=0.11417596094664972), Rating(user=10, product=5, rating=0.0523464690592661)))]\n"
     ]
    }
   ],
   "source": [
    "# Map recommendations to ad names \n",
    "recommendations = bestModel.recommendProductsForUsers(10)\n",
    "print (recomm)"
   ]
  },
  {
   "cell_type": "code",
   "execution_count": null,
   "metadata": {
    "collapsed": true
   },
   "outputs": [],
   "source": []
  }
 ],
 "metadata": {
  "kernelspec": {
   "display_name": "Python 2",
   "language": "python",
   "name": "python2"
  },
  "language_info": {
   "codemirror_mode": {
    "name": "ipython",
    "version": 2
   },
   "file_extension": ".py",
   "mimetype": "text/x-python",
   "name": "python",
   "nbconvert_exporter": "python",
   "pygments_lexer": "ipython2",
   "version": "2.7.12"
  }
 },
 "nbformat": 4,
 "nbformat_minor": 2
}
