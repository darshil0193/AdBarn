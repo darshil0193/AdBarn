{
 "cells": [
  {
   "cell_type": "code",
   "execution_count": null,
   "metadata": {
    "collapsed": true
   },
   "outputs": [],
   "source": [
    "# MongoDB connection\n",
    "# import pymongo\n",
    "\n",
    "# client = pymongo.MongoClient('mongodb://localhost:27017/')"
   ]
  },
  {
   "cell_type": "code",
   "execution_count": 5,
   "metadata": {},
   "outputs": [
    {
     "name": "stdout",
     "output_type": "stream",
     "text": [
      "[(1, 1, 5), (1, 3, 4), (1, 4, 3), (2, 1, 6), (2, 2, 2), (3, 3, 1)]\n"
     ]
    }
   ],
   "source": [
    "# Retrieve Data\n",
    "user_ad_views = [[1,1,5],\n",
    "       [1,3,4],\n",
    "       [1,4,3],\n",
    "       [2,1,6],\n",
    "       [2,2,2],\n",
    "       [3,3,1]]\n",
    "user_ad_views = sc.parallelize(user_ad_views)\n",
    "user_ad_views = user_ad_views.map(lambda x:(x[0], x[1], x[2]))\n",
    "print (user_ad_views.collect())"
   ]
  },
  {
   "cell_type": "code",
   "execution_count": 6,
   "metadata": {
    "collapsed": true
   },
   "outputs": [],
   "source": [
    "ad_names = [(1,\"one\"),(2,\"two\"),(3,\"three\"),(4,\"four\")]\n",
    "ad_names = sc.parallelize(ad_names)"
   ]
  },
  {
   "cell_type": "code",
   "execution_count": 3,
   "metadata": {},
   "outputs": [
    {
     "name": "stdout",
     "output_type": "stream",
     "text": [
      "[(2, 1, 6), (2, 2, 2)]\n"
     ]
    }
   ],
   "source": [
    "# Data split for cross validation\n",
    "trainData, validationData, testData = data.randomSplit([40, 40, 20], 13)\n",
    "print (trainData.collect())"
   ]
  },
  {
   "cell_type": "code",
   "execution_count": 11,
   "metadata": {},
   "outputs": [
    {
     "name": "stdout",
     "output_type": "stream",
     "text": [
      "[1, 2, 3]\n",
      "[1, 2, 3, 4]\n",
      "[(1, 1), (1, 2), (1, 3), (1, 4), (2, 1)]\n",
      "[(2, 1), (2, 2)]\n"
     ]
    }
   ],
   "source": [
    "unique_user = user_ad_views.map(lambda x:(x[0],(x[1], x[2]))).groupByKey().map(lambda x:x[0])\n",
    "unique_ad = ad_names.map(lambda x:x[0])\n",
    "all_pairs = unique_user.cartesian(unique_ad)\n",
    "trainData_m = trainData.map(lambda x:(x[0], x[1]))\n",
    "print (unique_user.take(5))\n",
    "print (unique_ad.take(5))\n",
    "print (all_pairs.take(5))\n",
    "print (trainData_m.take(5))"
   ]
  },
  {
   "cell_type": "code",
   "execution_count": null,
   "metadata": {
    "collapsed": true
   },
   "outputs": [],
   "source": [
    "# Model building"
   ]
  }
 ],
 "metadata": {
  "kernelspec": {
   "display_name": "Python 2",
   "language": "python",
   "name": "python2"
  },
  "language_info": {
   "codemirror_mode": {
    "name": "ipython",
    "version": 2
   },
   "file_extension": ".py",
   "mimetype": "text/x-python",
   "name": "python",
   "nbconvert_exporter": "python",
   "pygments_lexer": "ipython2",
   "version": "2.7.12"
  }
 },
 "nbformat": 4,
 "nbformat_minor": 2
}
